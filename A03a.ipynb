{
 "cells": [
  {
   "cell_type": "code",
   "execution_count": 12,
   "id": "26b7c9a0-4c81-4f78-a5fe-8eab71e14e72",
   "metadata": {},
   "outputs": [
    {
     "name": "stdout",
     "output_type": "stream",
     "text": [
      "[1, 3, 5, 7, 9, 11, 13, 15, 17, 19, 21, 23, 25]\n"
     ]
    }
   ],
   "source": [
    "Q1. Which keyword is used to create a function? Create a function to return a list of odd numbers in the\n",
    "range of 1 to 25.\n",
    "A1. The keyword to define the function is 'def'.\n",
    "Here's how we can create a function to return a list of odd numbers in th range if 1 to 25:\n",
    " def get_odd_numbers():\n",
    "        odd_numbers =[]\n",
    "        for num in range(1, 26):\n",
    "            if num % 2 != 0:\n",
    "                odd_numbers.append(num):\n",
    "        return odd_numbers \n",
    " print(a())"
   ]
  },
  {
   "cell_type": "code",
   "execution_count": 13,
   "id": "074d85e4-abbf-4548-9da1-409861201878",
   "metadata": {},
   "outputs": [
    {
     "ename": "SyntaxError",
     "evalue": "invalid syntax (1974490909.py, line 1)",
     "output_type": "error",
     "traceback": [
      "\u001b[0;36m  Cell \u001b[0;32mIn[13], line 1\u001b[0;36m\u001b[0m\n\u001b[0;31m    Q2. Why *args and **kwargs is used in some functions? Create a function each for *args and **kwargs to\u001b[0m\n\u001b[0m                      ^\u001b[0m\n\u001b[0;31mSyntaxError\u001b[0m\u001b[0;31m:\u001b[0m invalid syntax\n"
     ]
    }
   ],
   "source": [
    "Q2. Why *args and **kwargs is used in some functions? Create a function each for *args and **kwargs to\n",
    "demonstrate their use\n",
    "A2. '*args' and'**kwargs' are used in python functions to handle variable numbers of arguments.\n",
    "In args , we are telling the python to accpet any number of positional arguments .\n",
    "FOR EXAMPLE:\n",
    "    def suma_all(*args):\n",
    "        total = 0 \n",
    "        for num in args:\n",
    "            total += num:\n",
    "        return total\n",
    "    print(sum_all(1,2,3))\n",
    "    print(sum_all(1,2,3,4,5))\n",
    "    \n",
    "\n",
    "Similarly, when we use kwargs in a function defination, you are telling python to accept any numbers of keywords arguments.\n",
    "FOR EXAMPLE:\n",
    "    \n",
    "    def print_info(kwargs):\n",
    "        for key, value in kwargs.items():\n",
    "            print(f\"{key}: {value}\")\n",
    "    print_info(name=\"rafi\" , age=30, city =\"New york\")\n"
   ]
  },
  {
   "cell_type": "code",
   "execution_count": 14,
   "id": "18b672d4-b159-4e73-a40c-db53e334b710",
   "metadata": {},
   "outputs": [
    {
     "ename": "SyntaxError",
     "evalue": "invalid syntax (3749505088.py, line 1)",
     "output_type": "error",
     "traceback": [
      "\u001b[0;36m  Cell \u001b[0;32mIn[14], line 1\u001b[0;36m\u001b[0m\n\u001b[0;31m    Q3. What is an iterator in python? Name the method used to initialise the iterator object and the method\u001b[0m\n\u001b[0m                   ^\u001b[0m\n\u001b[0;31mSyntaxError\u001b[0m\u001b[0;31m:\u001b[0m invalid syntax\n"
     ]
    }
   ],
   "source": [
    "Q3. What is an iterator in python? Name the method used to initialise the iterator object and the method\n",
    "used for iteration. Use these methods to print the first five elements of the given list [2, 4, 6, 8, 10, 12, 14, 16,\n",
    "18, 20].\n",
    "\n",
    "A3. An iterator is an object that allows you to iterate over a sequence of elements, such as lists,tuples or strings. Iterators implement the iterator protocol, which consists of two methods:\n",
    "    '__iter__()' this methid intializes the iterator object and returns it.\n",
    "    and '__next__()'. it is used for iteration, it returns the next element in the sequence.\n",
    "    FOR EXAMPLE\n",
    "    a= iter([2, 4, 6, 8, 10, 12, 14, 16, 18, 20])\n",
    "    for _ in range(5):\n",
    "        pprint(next(a)\n",
    "    "
   ]
  },
  {
   "cell_type": "code",
   "execution_count": null,
   "id": "4c408b12-4c55-4a05-bbbd-90ae6466c6c5",
   "metadata": {},
   "outputs": [],
   "source": [
    "Q4. What is a generator function in python? Why yield keyword is used? Give an example of a generator\n",
    "function.\n",
    "A4. A generator functoinn in python ia aspecial typr of functionn that returns an itrator. it allows ou to generate a sequence of values on the fly rather than storing them in memory all at once. generator functions are defined using the yields keyword insteaf of return.\n",
    "\n",
    "FOR EXAMPLE:\n",
    "def fibonacci_generator():\n",
    "    a, b = 0, 1\n",
    "    while True:\n",
    "        yield a\n",
    "        a, b = b, a + b\n",
    "\n",
    "# Create a generator object\n",
    "fib_gen = fibonacci_generator()\n",
    "\n",
    "# Print the first 10 Fibonacci numbers\n",
    "for _ in range(10):\n",
    "    print(next(fib_gen))\n"
   ]
  },
  {
   "cell_type": "code",
   "execution_count": null,
   "id": "6db9d8cf-8092-4e66-be03-4832b5a18f76",
   "metadata": {},
   "outputs": [],
   "source": [
    "Q5. Create a generator function for prime numbers less than 1000. Use the next() method to print the\n",
    "first 20 prime numbers.\n",
    "A5. def is_prime(num):\n",
    "    if num <= 1:\n",
    "        return False\n",
    "    for i in range(2, int(num ** 0.5) + 1):\n",
    "        if num % i == 0:\n",
    "            return False\n",
    "    return True\n",
    "\n",
    "def prime_generator():\n",
    "    num = 2\n",
    "    while num < 1000:\n",
    "        if is_prime(num):\n",
    "            yield num\n",
    "        num += 1\n",
    "\n",
    "# Create a generator object\n",
    "prime_gen = prime_generator()\n",
    "\n",
    "# Print the first 20 prime numbers\n",
    "for _ in range(20):\n",
    "    print(next(prime_gen))\n"
   ]
  }
 ],
 "metadata": {
  "kernelspec": {
   "display_name": "Python 3 (ipykernel)",
   "language": "python",
   "name": "python3"
  },
  "language_info": {
   "codemirror_mode": {
    "name": "ipython",
    "version": 3
   },
   "file_extension": ".py",
   "mimetype": "text/x-python",
   "name": "python",
   "nbconvert_exporter": "python",
   "pygments_lexer": "ipython3",
   "version": "3.10.8"
  }
 },
 "nbformat": 4,
 "nbformat_minor": 5
}
