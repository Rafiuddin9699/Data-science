{
 "cells": [
  {
   "cell_type": "code",
   "execution_count": 1,
   "id": "b88fd684-92eb-4c90-a048-42f03a4b9917",
   "metadata": {},
   "outputs": [],
   "source": [
    "r = \"rafi\""
   ]
  },
  {
   "cell_type": "code",
   "execution_count": 2,
   "id": "9b33ea7d-3e06-4116-a30d-a67818e1c649",
   "metadata": {},
   "outputs": [
    {
     "data": {
      "text/plain": [
       "'f'"
      ]
     },
     "execution_count": 2,
     "metadata": {},
     "output_type": "execute_result"
    }
   ],
   "source": [
    "r[-2]"
   ]
  },
  {
   "cell_type": "code",
   "execution_count": 3,
   "id": "8eed860d-a75f-443a-b62f-5c1cf263d722",
   "metadata": {},
   "outputs": [
    {
     "data": {
      "text/plain": [
       "'a'"
      ]
     },
     "execution_count": 3,
     "metadata": {},
     "output_type": "execute_result"
    }
   ],
   "source": [
    "r[1]"
   ]
  },
  {
   "cell_type": "code",
   "execution_count": 4,
   "id": "0ad7134d-6078-4f35-b5a3-d2715f379f8a",
   "metadata": {},
   "outputs": [],
   "source": [
    "a = [2,4,4,6,\"rafi\",True, 4-7j]"
   ]
  },
  {
   "cell_type": "code",
   "execution_count": 5,
   "id": "71eadb25-e7ca-44cf-9470-6c4aa5fb8def",
   "metadata": {},
   "outputs": [
    {
     "data": {
      "text/plain": [
       "list"
      ]
     },
     "execution_count": 5,
     "metadata": {},
     "output_type": "execute_result"
    }
   ],
   "source": [
    "type(a)"
   ]
  },
  {
   "cell_type": "code",
   "execution_count": 6,
   "id": "bc5a48ba-2f52-4de7-8e48-6e18e630844d",
   "metadata": {},
   "outputs": [
    {
     "data": {
      "text/plain": [
       "6"
      ]
     },
     "execution_count": 6,
     "metadata": {},
     "output_type": "execute_result"
    }
   ],
   "source": [
    "a[3]"
   ]
  },
  {
   "cell_type": "code",
   "execution_count": 7,
   "id": "bf12db2a-eba8-4847-b5da-6df25ad35352",
   "metadata": {},
   "outputs": [],
   "source": [
    "a[5] = 100"
   ]
  },
  {
   "cell_type": "code",
   "execution_count": 8,
   "id": "2647bafa-bf76-4ae2-9e16-1657bdebf86a",
   "metadata": {},
   "outputs": [
    {
     "data": {
      "text/plain": [
       "[2, 4, 4, 6, 'rafi', 100, (4-7j)]"
      ]
     },
     "execution_count": 8,
     "metadata": {},
     "output_type": "execute_result"
    }
   ],
   "source": [
    "a"
   ]
  },
  {
   "cell_type": "code",
   "execution_count": null,
   "id": "3e8a379f-3313-41cf-9172-4c78d8db66dc",
   "metadata": {},
   "outputs": [],
   "source": [
    "#above concept known as mutability, means that if we can change the index in case of lidt"
   ]
  },
  {
   "cell_type": "code",
   "execution_count": 10,
   "id": "fb79e01d-5225-4ab7-9ebc-94162290b476",
   "metadata": {},
   "outputs": [
    {
     "data": {
      "text/plain": [
       "'rafi'"
      ]
     },
     "execution_count": 10,
     "metadata": {},
     "output_type": "execute_result"
    }
   ],
   "source": [
    "r"
   ]
  },
  {
   "cell_type": "code",
   "execution_count": 11,
   "id": "41a3be35-40d3-414a-97db-60c47d1aa4bc",
   "metadata": {},
   "outputs": [
    {
     "ename": "TypeError",
     "evalue": "'str' object does not support item assignment",
     "output_type": "error",
     "traceback": [
      "\u001b[0;31m---------------------------------------------------------------------------\u001b[0m",
      "\u001b[0;31mTypeError\u001b[0m                                 Traceback (most recent call last)",
      "Cell \u001b[0;32mIn[11], line 1\u001b[0m\n\u001b[0;32m----> 1\u001b[0m \u001b[43mr\u001b[49m\u001b[43m[\u001b[49m\u001b[38;5;241;43m2\u001b[39;49m\u001b[43m]\u001b[49m\u001b[38;5;241m=\u001b[39ma\n",
      "\u001b[0;31mTypeError\u001b[0m: 'str' object does not support item assignment"
     ]
    }
   ],
   "source": [
    "r[2]=a"
   ]
  },
  {
   "cell_type": "code",
   "execution_count": null,
   "id": "1651cbe3-d081-4189-8180-025237653949",
   "metadata": {},
   "outputs": [],
   "source": [
    "#it is immutability, string is not chnagable this is why it is immutabile"
   ]
  }
 ],
 "metadata": {
  "kernelspec": {
   "display_name": "Python 3 (ipykernel)",
   "language": "python",
   "name": "python3"
  },
  "language_info": {
   "codemirror_mode": {
    "name": "ipython",
    "version": 3
   },
   "file_extension": ".py",
   "mimetype": "text/x-python",
   "name": "python",
   "nbconvert_exporter": "python",
   "pygments_lexer": "ipython3",
   "version": "3.10.8"
  }
 },
 "nbformat": 4,
 "nbformat_minor": 5
}
