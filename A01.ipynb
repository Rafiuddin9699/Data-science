{
 "cells": [
  {
   "cell_type": "code",
   "execution_count": 5,
   "id": "3c551599-feb5-4bb7-ba90-c7415328854a",
   "metadata": {},
   "outputs": [
    {
     "name": "stdout",
     "output_type": "stream",
     "text": [
      " i don't know howto create string \n"
     ]
    }
   ],
   "source": [
    "#Q1 i)\n",
    "s = \" i don't know howto create string \"\n",
    "print(s)"
   ]
  },
  {
   "cell_type": "code",
   "execution_count": 13,
   "id": "e8a739a4-d397-4727-9131-5ca93747542f",
   "metadata": {},
   "outputs": [
    {
     "name": "stdout",
     "output_type": "stream",
     "text": [
      "['fajr, zohar, asar, maghrib, isha']\n"
     ]
    }
   ],
   "source": [
    "# ii\n",
    "L =  [ 'fajr, zohar, asar, maghrib, isha' ]\n",
    "print(L)"
   ]
  },
  {
   "cell_type": "code",
   "execution_count": 16,
   "id": "34f3d7ba-aefd-4d54-944a-8be2fd9fe21e",
   "metadata": {},
   "outputs": [
    {
     "name": "stdout",
     "output_type": "stream",
     "text": [
      "(34.5, 89.4)\n"
     ]
    }
   ],
   "source": [
    "#iii\n",
    "f = (34.5, 89.4)\n",
    "print(f)\n"
   ]
  },
  {
   "cell_type": "code",
   "execution_count": 19,
   "id": "700dec7a-0a08-48fa-a400-7cf54664c3c9",
   "metadata": {},
   "outputs": [
    {
     "name": "stdout",
     "output_type": "stream",
     "text": [
      "('rafi', 'faiez')\n"
     ]
    }
   ],
   "source": [
    "#iv\n",
    "t = (\"rafi\", \"faiez\", )\n",
    "print(t)"
   ]
  },
  {
   "cell_type": "code",
   "execution_count": 21,
   "id": "2fe0ffc0-0d25-4708-a084-70f0a96ddf81",
   "metadata": {},
   "outputs": [
    {
     "data": {
      "text/plain": [
       "str"
      ]
     },
     "execution_count": 21,
     "metadata": {},
     "output_type": "execute_result"
    }
   ],
   "source": [
    "#Q2 i\n",
    "var1 = ''\n",
    "type(var1)"
   ]
  },
  {
   "cell_type": "code",
   "execution_count": 23,
   "id": "7e27acb7-6264-46e9-9029-da3c0cedb189",
   "metadata": {},
   "outputs": [
    {
     "data": {
      "text/plain": [
       "str"
      ]
     },
     "execution_count": 23,
     "metadata": {},
     "output_type": "execute_result"
    }
   ],
   "source": [
    "#ii\n",
    "var2 = '[DS, ML, python]'\n",
    "type(var2)"
   ]
  },
  {
   "cell_type": "code",
   "execution_count": 26,
   "id": "a6a6331a-c68c-430d-ba83-8a85c3dd3e98",
   "metadata": {},
   "outputs": [
    {
     "data": {
      "text/plain": [
       "list"
      ]
     },
     "execution_count": 26,
     "metadata": {},
     "output_type": "execute_result"
    }
   ],
   "source": [
    "#(iii) \n",
    "var3 = ['DS', 'ML', 'python']\n",
    "type(var3)"
   ]
  },
  {
   "cell_type": "code",
   "execution_count": 29,
   "id": "1f59a580-3657-4836-ab11-93cff882b95c",
   "metadata": {},
   "outputs": [
    {
     "data": {
      "text/plain": [
       "int"
      ]
     },
     "execution_count": 29,
     "metadata": {},
     "output_type": "execute_result"
    }
   ],
   "source": [
    "#(iv) \n",
    "var4 = 1\n",
    "type(var4)"
   ]
  },
  {
   "cell_type": "code",
   "execution_count": 30,
   "id": "bd1e7473-9a6d-4398-abdb-6cc4fc6833ad",
   "metadata": {},
   "outputs": [
    {
     "ename": "SyntaxError",
     "evalue": "incomplete input (3059544207.py, line 1)",
     "output_type": "error",
     "traceback": [
      "\u001b[0;36m  Cell \u001b[0;32mIn[30], line 1\u001b[0;36m\u001b[0m\n\u001b[0;31m    '''Q3. Explain the use of the following operators using an example:\u001b[0m\n\u001b[0m    ^\u001b[0m\n\u001b[0;31mSyntaxError\u001b[0m\u001b[0;31m:\u001b[0m incomplete input\n"
     ]
    }
   ],
   "source": [
    "'''Q3. Explain the use of the following operators using an example:\n",
    "(i) / --> USE FOR DIVISION.\n",
    "(ii) % --> MANUPULATING THE PERCENTAGE\n",
    "(iii) // --> use exponential power.\n",
    "(iv) ** --> use multiplication and power '''"
   ]
  },
  {
   "cell_type": "code",
   "execution_count": 34,
   "id": "a176d608-dab8-446d-a441-7880dbba11dc",
   "metadata": {},
   "outputs": [],
   "source": [
    "l = ( 0, 1, 2, 3, 4, 5, 6, 7, 8, 9 )\n"
   ]
  },
  {
   "cell_type": "code",
   "execution_count": 37,
   "id": "8dcc2eb7-5acd-4dc0-8488-fb0aeecde03d",
   "metadata": {},
   "outputs": [
    {
     "name": "stdout",
     "output_type": "stream",
     "text": [
      "0\n",
      "1\n",
      "2\n",
      "3\n",
      "4\n",
      "5\n",
      "6\n",
      "7\n",
      "8\n",
      "9\n"
     ]
    }
   ],
   "source": [
    "for i in l :\n",
    "    print(i)"
   ]
  },
  {
   "cell_type": "code",
   "execution_count": 25,
   "id": "a8bbdcfb-93bd-42a4-98ff-19a8a3acde67",
   "metadata": {},
   "outputs": [
    {
     "name": "stdout",
     "output_type": "stream",
     "text": [
      "16\n",
      "8\n",
      "4\n",
      "2\n"
     ]
    }
   ],
   "source": [
    "\n",
    "# Q5Q5. Using a while loop, verify if the number A is purely divisible by number B and if so then how many\n",
    "#times it can be divisible.\n",
    "n = 16\n",
    "m = 2\n",
    "\n",
    "while m <= n:\n",
    "    print(n)\n",
    "    n = n // m\n"
   ]
  },
  {
   "cell_type": "code",
   "execution_count": 2,
   "id": "9d177b90-1c5a-4732-a45e-204240160c65",
   "metadata": {},
   "outputs": [],
   "source": [
    "# Q6. Create a list containing 25 int type data. Using for loop and if-else condition print if the element is\n",
    "#divisible by 3 or not.\n",
    "l = [ 0, 1, 2, 3, 4, 5, 6, 7, 8, 9, 10, 11, 12, 13, 14, 15, 16, 17, 18, 19, 20, 21, 22, 23, 24, 25 ]\n"
   ]
  },
  {
   "cell_type": "code",
   "execution_count": 10,
   "id": "52372d74-906a-4ee9-bed6-395cc3459827",
   "metadata": {},
   "outputs": [
    {
     "name": "stdout",
     "output_type": "stream",
     "text": [
      "0\n",
      "some numbers are divisible by 3\n",
      "1\n",
      "some are not\n",
      "2\n",
      "some are not\n",
      "3\n",
      "some numbers are divisible by 3\n",
      "4\n",
      "some are not\n",
      "5\n",
      "some are not\n",
      "6\n",
      "some numbers are divisible by 3\n",
      "7\n",
      "some are not\n",
      "8\n",
      "some are not\n",
      "9\n",
      "some numbers are divisible by 3\n",
      "10\n",
      "some are not\n",
      "11\n",
      "some are not\n",
      "12\n",
      "some numbers are divisible by 3\n",
      "13\n",
      "some are not\n",
      "14\n",
      "some are not\n",
      "15\n",
      "some numbers are divisible by 3\n",
      "16\n",
      "some are not\n",
      "17\n",
      "some are not\n",
      "18\n",
      "some numbers are divisible by 3\n",
      "19\n",
      "some are not\n",
      "20\n",
      "some are not\n",
      "21\n",
      "some numbers are divisible by 3\n",
      "22\n",
      "some are not\n",
      "23\n",
      "some are not\n",
      "24\n",
      "some numbers are divisible by 3\n",
      "25\n",
      "some are not\n"
     ]
    }
   ],
   "source": [
    "for i in l :\n",
    "    print(i)\n",
    "    if i % 3 == 0:\n",
    "        print(\"some numbers are divisible by 3\")\n",
    "    else:\n",
    "          print(\"some are not\")\n"
   ]
  },
  {
   "cell_type": "markdown",
   "id": "19adb889-38c1-4321-b094-a3d149db70a5",
   "metadata": {},
   "source": [
    "#Q7. What do you understand about mutable and immutable data types? Give examples for both showing\n",
    "#this property.\n",
    "\n",
    "Immutable Data Types:\n",
    "Immutable data types are those whose values cannot be changed after they are created. When you modify an immutable object, it actually creates a new object with the modified value. Immutable objects are preferred when you want to ensure that the data remains unchanged during the program's execution.\n",
    " \n",
    " \n",
    " Mutable Data Types:\n",
    "Mutable data types are those whose values can be changed after they are created. When you modify a mutable object, the change is reflected directly on the same object, without creating a new one."
   ]
  }
 ],
 "metadata": {
  "kernelspec": {
   "display_name": "Python 3 (ipykernel)",
   "language": "python",
   "name": "python3"
  },
  "language_info": {
   "codemirror_mode": {
    "name": "ipython",
    "version": 3
   },
   "file_extension": ".py",
   "mimetype": "text/x-python",
   "name": "python",
   "nbconvert_exporter": "python",
   "pygments_lexer": "ipython3",
   "version": "3.10.8"
  }
 },
 "nbformat": 4,
 "nbformat_minor": 5
}
