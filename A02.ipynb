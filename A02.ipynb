{
 "cells": [
  {
   "cell_type": "code",
   "execution_count": 1,
   "id": "719b209a-37d8-4b1d-8c07-4d4dcc46f57d",
   "metadata": {},
   "outputs": [
    {
     "ename": "SyntaxError",
     "evalue": "unterminated triple-quoted string literal (detected at line 8) (3812582080.py, line 8)",
     "output_type": "error",
     "traceback": [
      "\u001b[0;36m  Cell \u001b[0;32mIn[1], line 8\u001b[0;36m\u001b[0m\n\u001b[0;31m    '''\u001b[0m\n\u001b[0m    ^\u001b[0m\n\u001b[0;31mSyntaxError\u001b[0m\u001b[0;31m:\u001b[0m unterminated triple-quoted string literal (detected at line 8)\n"
     ]
    }
   ],
   "source": [
    "Q1. How do you comment code in Python? What are the different types of comments?\n",
    "A1. BY using the \"#\" character to indiacte the comment, it si usig in single line comment only . For multi line comment we can use triple Quotes('''or\"\"\").\n",
    "for example : # This is single linne comment\n",
    "'''\n",
    " this \n",
    "is \n",
    "multi line comment\n",
    "'''\n"
   ]
  },
  {
   "cell_type": "code",
   "execution_count": 2,
   "id": "9973c3be-fa91-4a6f-87df-58b961edd625",
   "metadata": {},
   "outputs": [
    {
     "ename": "SyntaxError",
     "evalue": "invalid syntax (3439882672.py, line 2)",
     "output_type": "error",
     "traceback": [
      "\u001b[0;36m  Cell \u001b[0;32mIn[2], line 2\u001b[0;36m\u001b[0m\n\u001b[0;31m    A2. Variable are used to store data values. in python we not need  to declare the variable with a specific data type.\u001b[0m\n\u001b[0m                 ^\u001b[0m\n\u001b[0;31mSyntaxError\u001b[0m\u001b[0;31m:\u001b[0m invalid syntax\n"
     ]
    }
   ],
   "source": [
    "Q2. What are variables in Python? How do you declare and assign values to variables?\n",
    "A2. Variable are used to store data values. in python we not need  to declare the variable with a specific data type.\n",
    " to assign the and declare the values to variable we can use the syntax as:-\n",
    "a = 9 #integer\n",
    "name =\"Rafi\" #string\n",
    "pi = 3.14 #float\n",
    "boolean = True #booolean\n",
    "\n"
   ]
  },
  {
   "cell_type": "code",
   "execution_count": null,
   "id": "2c7d4bf2-9b9b-4195-bd71-b25d0496f1b1",
   "metadata": {},
   "outputs": [],
   "source": [
    "Q3. How do you convert one data type to another in Python?\n",
    "A3. In python we can use built in function to convert one data types to another. I am mentioning the some common ways to covert data type.\n",
    "i) implicit type function\n",
    "ii) Explicit type function\n",
    "iii) Using constructor functions \n",
    "iv) using format() method\n",
    "\n"
   ]
  },
  {
   "cell_type": "code",
   "execution_count": null,
   "id": "595440a1-dd16-43e7-bcbc-bc6dcf1b354e",
   "metadata": {},
   "outputs": [],
   "source": [
    "Q4. How do you write and execute a Python script from the command line?\n",
    "A4. follow these steps to write and execute the python script\n",
    "1) create file in jupiter notebook , with the extension of filename.py\n",
    "2) open commond line\n",
    "3) navigate the directory \n",
    "4) Execute the script\n",
    "\n"
   ]
  },
  {
   "cell_type": "code",
   "execution_count": null,
   "id": "2ab8191a-dfc6-473c-9573-3e52afe9c49d",
   "metadata": {},
   "outputs": [],
   "source": [
    "Q5. Given a list my_list = [1, 2, 3, 4, 5], write the code to slice the list and obtain the sub-list [2, 3].\n",
    "A5. my_list = [1,2,3,4,5]\n",
    "    sub_list = my_list[1:3]\n",
    "    print(sub_list)\n",
    "\n"
   ]
  },
  {
   "cell_type": "code",
   "execution_count": null,
   "id": "f3a5169c-199f-4f19-a519-1a5a6424fb11",
   "metadata": {},
   "outputs": [],
   "source": [
    "Q6. What is a complex number in mathematics, and how is it represented in Python?\n",
    "A6. A complex numbers is a number that comprises a rea part and an imaginary part. And it is usaually represented by Z=a+bi, Where a is real,b is imaginary part and i^2=-1\n",
    "In python , it represented by the use of \"complex\" built in type. for example :\n",
    "z1 = 2 +4i\n",
    "print(z1)\n",
    "\n"
   ]
  },
  {
   "cell_type": "code",
   "execution_count": null,
   "id": "db69bf06-11d8-41d6-b624-8ae8fbbac415",
   "metadata": {},
   "outputs": [],
   "source": [
    "Q7. What is the correct way to declare a variable named age and assign the value 25 to it?\n",
    "A7. age = 25\n",
    "In the above line age simply decleare integer 25 , which is a variable, In python we don't need to specify the tpe of the variable.\n",
    "\n"
   ]
  },
  {
   "cell_type": "code",
   "execution_count": null,
   "id": "8c06a731-4b0b-4c5a-9ad1-aae5e02e8dfc",
   "metadata": {},
   "outputs": [],
   "source": [
    "Q8. Declare a variable named price and assign the value 9.99 to it. What data type does this variable\n",
    "belong to?\n",
    "A8. price = 9.99 #Data type is float.\n",
    "\n"
   ]
  },
  {
   "cell_type": "code",
   "execution_count": null,
   "id": "d580bf7b-2d7a-4f03-9dc6-0690400be58b",
   "metadata": {},
   "outputs": [],
   "source": [
    "Q9. Create a variable named name and assign your full name to it as a string. How would you print the\n",
    "value of this variable?\n",
    "A9. name = ''Mohd Rafiuddin''\n",
    "    print(name)\n",
    "\n"
   ]
  },
  {
   "cell_type": "code",
   "execution_count": null,
   "id": "e5694af5-6f82-402d-9946-8b7821b45a60",
   "metadata": {},
   "outputs": [],
   "source": [
    "Q10. Given the string \"Hello, World!\", extract the substring \"World\".\n",
    "A10. a = \"Hello, world!\"\n",
    "     b = s[7:12]\n",
    "     print(b)\n",
    "\n"
   ]
  },
  {
   "cell_type": "code",
   "execution_count": null,
   "id": "92df5e4f-1f2c-42ed-945b-de81be1b08c9",
   "metadata": {},
   "outputs": [],
   "source": [
    "Q11. Create a variable named \"is_student\" and assign it a boolean value indicating whether you are\n",
    "currently a student or not.\n",
    "A11. is_student = True #currently a student\n",
    "     is_student = False #not a student"
   ]
  }
 ],
 "metadata": {
  "kernelspec": {
   "display_name": "Python 3 (ipykernel)",
   "language": "python",
   "name": "python3"
  },
  "language_info": {
   "codemirror_mode": {
    "name": "ipython",
    "version": 3
   },
   "file_extension": ".py",
   "mimetype": "text/x-python",
   "name": "python",
   "nbconvert_exporter": "python",
   "pygments_lexer": "ipython3",
   "version": "3.10.8"
  }
 },
 "nbformat": 4,
 "nbformat_minor": 5
}
