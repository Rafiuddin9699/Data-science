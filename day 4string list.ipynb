{
 "cells": [
  {
   "cell_type": "code",
   "execution_count": 1,
   "id": "b40afbaf-051c-4adc-a0bc-760a3ca1ebbb",
   "metadata": {},
   "outputs": [],
   "source": [
    "name=\"data scince masters\""
   ]
  },
  {
   "cell_type": "code",
   "execution_count": 3,
   "id": "6b5e134f-8fdb-429f-8286-e55f3cac0aad",
   "metadata": {},
   "outputs": [
    {
     "data": {
      "text/plain": [
       "'DATA SCINCE MASTERS'"
      ]
     },
     "execution_count": 3,
     "metadata": {},
     "output_type": "execute_result"
    }
   ],
   "source": [
    "name.swapcase()"
   ]
  },
  {
   "cell_type": "code",
   "execution_count": 6,
   "id": "2257caf7-2e46-4e26-9fcd-e7a9ae52ee6d",
   "metadata": {},
   "outputs": [
    {
     "data": {
      "text/plain": [
       "'Data Scince Masters'"
      ]
     },
     "execution_count": 6,
     "metadata": {},
     "output_type": "execute_result"
    }
   ],
   "source": [
    "name.title()"
   ]
  },
  {
   "cell_type": "code",
   "execution_count": 9,
   "id": "5cfd94a3-1de3-45cd-b776-884f55f558cd",
   "metadata": {},
   "outputs": [
    {
     "data": {
      "text/plain": [
       "'Data scince masters'"
      ]
     },
     "execution_count": 9,
     "metadata": {},
     "output_type": "execute_result"
    }
   ],
   "source": [
    "name.capitalize()"
   ]
  },
  {
   "cell_type": "raw",
   "id": "f953b11d-7e50-4968-bd01-f7b84e0cc566",
   "metadata": {},
   "source": [
    "##Reversing a string"
   ]
  },
  {
   "cell_type": "code",
   "execution_count": 10,
   "id": "60778937-0e1f-4e9a-9214-a3e71e6c54d0",
   "metadata": {},
   "outputs": [
    {
     "data": {
      "text/plain": [
       "'sretsam ecnics atad'"
      ]
     },
     "execution_count": 10,
     "metadata": {},
     "output_type": "execute_result"
    }
   ],
   "source": [
    "name[::-1]"
   ]
  },
  {
   "cell_type": "code",
   "execution_count": 14,
   "id": "4dcfe438-0880-4c47-87bd-7119313c185d",
   "metadata": {},
   "outputs": [
    {
     "data": {
      "text/plain": [
       "'s r e t s a m   e c n i c s   a t a d'"
      ]
     },
     "execution_count": 14,
     "metadata": {},
     "output_type": "execute_result"
    }
   ],
   "source": [
    "' '.join(reversed(name))"
   ]
  },
  {
   "cell_type": "code",
   "execution_count": 27,
   "id": "8edc9cf5-2ba0-44a1-b701-fa87b9e4c335",
   "metadata": {},
   "outputs": [
    {
     "data": {
      "text/plain": [
       "'N a I a D a D a U a I a F a A a R'"
      ]
     },
     "execution_count": 27,
     "metadata": {},
     "output_type": "execute_result"
    }
   ],
   "source": [
    "\" a \".join(reversed(\"RAFIUDDIN\"))"
   ]
  },
  {
   "cell_type": "code",
   "execution_count": 31,
   "id": "200640b6-d054-4fcb-8a21-214dc4d38873",
   "metadata": {},
   "outputs": [
    {
     "data": {
      "text/plain": [
       "['t', 'n', 'a']"
      ]
     },
     "execution_count": 31,
     "metadata": {},
     "output_type": "execute_result"
    }
   ],
   "source": [
    "#typecasting\n",
    "list(reversed(\"ant\"))"
   ]
  },
  {
   "cell_type": "code",
   "execution_count": 33,
   "id": "b639d190-e89f-430f-8018-48c013618f74",
   "metadata": {},
   "outputs": [],
   "source": [
    "s1= \"rafi is good guy\""
   ]
  },
  {
   "cell_type": "code",
   "execution_count": 39,
   "id": "9d4dc379-6889-4ab6-ac3f-9563cc8cd4d2",
   "metadata": {},
   "outputs": [],
   "source": [
    "## removing character from the end of the string "
   ]
  },
  {
   "cell_type": "code",
   "execution_count": 46,
   "id": "7891aa3e-b262-4b18-9dc2-8eddf4e026c6",
   "metadata": {},
   "outputs": [],
   "source": [
    "s1 = \" pwskill      \""
   ]
  },
  {
   "cell_type": "code",
   "execution_count": 51,
   "id": "39d452b9-477c-467c-b0fe-10723eaf43f8",
   "metadata": {},
   "outputs": [
    {
     "data": {
      "text/plain": [
       "'pwskill'"
      ]
     },
     "execution_count": 51,
     "metadata": {},
     "output_type": "execute_result"
    }
   ],
   "source": [
    "s1.strip(\" \")"
   ]
  },
  {
   "cell_type": "code",
   "execution_count": 53,
   "id": "a34ebd61-8ecb-4d34-9719-f38b48bfc7ad",
   "metadata": {},
   "outputs": [
    {
     "data": {
      "text/plain": [
       "' pwskill'"
      ]
     },
     "execution_count": 53,
     "metadata": {},
     "output_type": "execute_result"
    }
   ],
   "source": [
    "s1.rstrip(\" \")"
   ]
  },
  {
   "cell_type": "code",
   "execution_count": 59,
   "id": "2a5b52f6-5a0d-4bfd-a2d1-a6518f9ecfa1",
   "metadata": {},
   "outputs": [],
   "source": [
    "#replacing the word\n",
    "\n",
    "s2 = \"greeting to rafi\"\n",
    "var= s2.replace(\"to\",\"from\")"
   ]
  },
  {
   "cell_type": "code",
   "execution_count": 60,
   "id": "e7920ebf-371a-4eb0-a526-6f02e62bbab9",
   "metadata": {},
   "outputs": [
    {
     "name": "stdout",
     "output_type": "stream",
     "text": [
      "139693886696832\n",
      "139693886178288\n"
     ]
    }
   ],
   "source": [
    "print(id(s2))\n",
    "print(id(var))\n"
   ]
  },
  {
   "cell_type": "code",
   "execution_count": 62,
   "id": "e612503c-4cfc-4329-bd78-f1b16aecc1a6",
   "metadata": {},
   "outputs": [
    {
     "data": {
      "text/plain": [
       "'hello world'"
      ]
     },
     "execution_count": 62,
     "metadata": {},
     "output_type": "execute_result"
    }
   ],
   "source": [
    "\"hello world\""
   ]
  },
  {
   "cell_type": "code",
   "execution_count": 64,
   "id": "95ae134b-953c-43e5-a1d1-3d0cfd812ead",
   "metadata": {},
   "outputs": [
    {
     "data": {
      "text/plain": [
       "'hello   world'"
      ]
     },
     "execution_count": 64,
     "metadata": {},
     "output_type": "execute_result"
    }
   ],
   "source": [
    "\"hello \\tworld\".expandtabs()"
   ]
  },
  {
   "cell_type": "code",
   "execution_count": 65,
   "id": "e8429bd7-6474-4e58-9fc8-b706b4172a95",
   "metadata": {},
   "outputs": [],
   "source": [
    "s11= \"welcome to pw skills to dat rafi masters\""
   ]
  },
  {
   "cell_type": "code",
   "execution_count": 73,
   "id": "ab35ca04-9a04-4894-8d02-6528da7914c9",
   "metadata": {},
   "outputs": [
    {
     "ename": "NameError",
     "evalue": "name 's11' is not defined",
     "output_type": "error",
     "traceback": [
      "\u001b[0;31m---------------------------------------------------------------------------\u001b[0m",
      "\u001b[0;31mNameError\u001b[0m                                 Traceback (most recent call last)",
      "Cell \u001b[0;32mIn[73], line 1\u001b[0m\n\u001b[0;32m----> 1\u001b[0m \u001b[43ms11\u001b[49m\u001b[38;5;241m.\u001b[39mreplace(\u001b[38;5;124m\"\u001b[39m\u001b[38;5;124mdat\u001b[39m\u001b[38;5;124m\"\u001b[39m,\u001b[38;5;124m\"\u001b[39m\u001b[38;5;124mdata\u001b[39m\u001b[38;5;124m\"\u001b[39m)\u001b[38;5;241m.\u001b[39mreplace(\u001b[38;5;124m\"\u001b[39m\u001b[38;5;124mrafi\u001b[39m\u001b[38;5;124m\"\u001b[39m,\u001b[38;5;124m\"\u001b[39m\u001b[38;5;124mscience\u001b[39m\u001b[38;5;124m\"\u001b[39m)\n",
      "\u001b[0;31mNameError\u001b[0m: name 's11' is not defined"
     ]
    }
   ],
   "source": [
    "s11.replace(\"dat\",\"data\").replace(\"rafi\",\"science\")"
   ]
  },
  {
   "cell_type": "code",
   "execution_count": null,
   "id": "32d0dec4-200e-4a04-8be2-020f0dd84e54",
   "metadata": {},
   "outputs": [],
   "source": []
  },
  {
   "cell_type": "code",
   "execution_count": null,
   "id": "dd8e1582-734c-483c-9e53-834b535a78fe",
   "metadata": {},
   "outputs": [],
   "source": []
  }
 ],
 "metadata": {
  "kernelspec": {
   "display_name": "Python 3 (ipykernel)",
   "language": "python",
   "name": "python3"
  },
  "language_info": {
   "codemirror_mode": {
    "name": "ipython",
    "version": 3
   },
   "file_extension": ".py",
   "mimetype": "text/x-python",
   "name": "python",
   "nbconvert_exporter": "python",
   "pygments_lexer": "ipython3",
   "version": "3.10.8"
  }
 },
 "nbformat": 4,
 "nbformat_minor": 5
}
