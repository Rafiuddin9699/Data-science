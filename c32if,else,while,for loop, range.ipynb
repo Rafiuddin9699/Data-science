{
 "cells": [
  {
   "cell_type": "code",
   "execution_count": 1,
   "id": "687f6881-955a-4d88-87f0-acf16c8cdc73",
   "metadata": {},
   "outputs": [],
   "source": [
    "a = 10\n",
    "if a > 10 :\n",
    "    pass"
   ]
  },
  {
   "cell_type": "code",
   "execution_count": 2,
   "id": "f0d2f820-4d4a-4c69-8278-19994ac9cc27",
   "metadata": {},
   "outputs": [
    {
     "data": {
      "text/plain": [
       "False"
      ]
     },
     "execution_count": 2,
     "metadata": {},
     "output_type": "execute_result"
    }
   ],
   "source": [
    "a > 10"
   ]
  },
  {
   "cell_type": "code",
   "execution_count": 3,
   "id": "25f03e0e-bbc7-4d3c-b73f-89082b439632",
   "metadata": {},
   "outputs": [
    {
     "name": "stdout",
     "output_type": "stream",
     "text": [
      "This will execute once if will not be to perform\n"
     ]
    }
   ],
   "source": [
    "a = 10\n",
    "if a> 10 :\n",
    "    print(\"This will execute once a greater than 10 \")\n",
    "else :\n",
    "    print(\"This will execute once if will not be to perform\")"
   ]
  },
  {
   "cell_type": "code",
   "execution_count": 5,
   "id": "3ae31f99-d4c5-4a17-b09f-0675e7546981",
   "metadata": {},
   "outputs": [
    {
     "name": "stdout",
     "output_type": "stream",
     "text": [
      "this is trying to check a condition for a where a could be 10 or lesser\n"
     ]
    }
   ],
   "source": [
    "a = 10\n",
    "if a> 10 :\n",
    "    print(\"This will execute once a greater than 10 \")\n",
    "elif a<= 10 :\n",
    "    print(\"this is trying to check a condition for a where a could be 10 or lesser\")\n",
    "else :\n",
    "    print(\"This will execute once if will not be to perform\")"
   ]
  },
  {
   "cell_type": "code",
   "execution_count": 65,
   "id": "b25879c7-8d2a-4697-909d-81247ce81d77",
   "metadata": {},
   "outputs": [
    {
     "name": "stdin",
     "output_type": "stream",
     "text": [
      "enter a value for a 3\n"
     ]
    },
    {
     "name": "stdout",
     "output_type": "stream",
     "text": [
      "this is trying to check a condition for a where a could be 10 or lesser\n"
     ]
    }
   ],
   "source": [
    "a = int(input(\"enter a value for a\"))\n",
    "if a> 10 :\n",
    "    print(\"This will execute once a greater than 10 \")\n",
    "elif a<= 10 :\n",
    "    print(\"this is trying to check a condition for a where a could be 10 or lesser\")\n",
    "else :\n",
    "    print(\"This will execute once if will not be to perform\")"
   ]
  },
  {
   "cell_type": "code",
   "execution_count": 90,
   "id": "59e633eb-2bbc-4dc3-a272-e3dfcb9abc0a",
   "metadata": {},
   "outputs": [
    {
     "name": "stdout",
     "output_type": "stream",
     "text": [
      "1\n",
      "2\n"
     ]
    }
   ],
   "source": [
    "n = 10\n",
    "i = 1\n",
    "while  i < n :\n",
    "    print(i)\n",
    "    i = i+1\n",
    "    if i == 3 :\n",
    "        break\n",
    "else :\n",
    "    print (\"this will be executive once while will complete it succesfuullly\")"
   ]
  },
  {
   "cell_type": "code",
   "execution_count": 91,
   "id": "4dacc47a-9b63-4672-bfba-7d55d50ab7b3",
   "metadata": {},
   "outputs": [
    {
     "name": "stdout",
     "output_type": "stream",
     "text": [
      "1\n",
      "2\n",
      "3\n",
      "4\n",
      "5\n",
      "6\n",
      "7\n",
      "8\n",
      "9\n",
      "this will be executive once while will complete it succesfuullly\n"
     ]
    }
   ],
   "source": [
    "n = 10\n",
    "i = 1\n",
    "while  i < n :\n",
    "    print(i)\n",
    "    i = i+1\n",
    "    if i == 3 :\n",
    "        continue\n",
    "        print(i)\n",
    "else :\n",
    "    print (\"this will be executive once while will complete it succesfuullly\")"
   ]
  },
  {
   "cell_type": "code",
   "execution_count": 92,
   "id": "10fa84c4-c420-4dac-b87f-e501a86b620e",
   "metadata": {},
   "outputs": [],
   "source": [
    "r = 'rafi'\n"
   ]
  },
  {
   "cell_type": "code",
   "execution_count": 94,
   "id": "4cb7bd48-85c1-447a-9f0d-8820f0a52e63",
   "metadata": {},
   "outputs": [
    {
     "name": "stdout",
     "output_type": "stream",
     "text": [
      "r\n",
      "a\n",
      "f\n",
      "i\n"
     ]
    }
   ],
   "source": [
    "for i in r:\n",
    "    print(i)"
   ]
  },
  {
   "cell_type": "code",
   "execution_count": 99,
   "id": "d22a1b42-f932-4b68-9608-0405058be339",
   "metadata": {},
   "outputs": [],
   "source": [
    "l = [34,45,6,\"pes\",5+9j]"
   ]
  },
  {
   "cell_type": "code",
   "execution_count": 102,
   "id": "0d6e3a7c-a7d2-4d9a-8093-cb84c5c96ad1",
   "metadata": {},
   "outputs": [
    {
     "name": "stdout",
     "output_type": "stream",
     "text": [
      "34\n",
      "45\n",
      "6\n",
      "pes\n"
     ]
    }
   ],
   "source": [
    "for j in l:\n",
    "    print(j)\n",
    "    if j =='pes':\n",
    "        break\n",
    "else:\n",
    "            print(\"this will be executed\")"
   ]
  },
  {
   "cell_type": "code",
   "execution_count": 105,
   "id": "48c083fb-4832-4a28-bf9c-e0c6c4d88741",
   "metadata": {},
   "outputs": [
    {
     "data": {
      "text/plain": [
       "[0, 1, 2, 3, 4, 5, 6, 7, 8, 9]"
      ]
     },
     "execution_count": 105,
     "metadata": {},
     "output_type": "execute_result"
    }
   ],
   "source": [
    "list(range(10))"
   ]
  },
  {
   "cell_type": "code",
   "execution_count": null,
   "id": "7bbdad23-7ac5-4ad5-ba2c-ff5b6c80d5e3",
   "metadata": {},
   "outputs": [],
   "source": []
  }
 ],
 "metadata": {
  "kernelspec": {
   "display_name": "Python 3 (ipykernel)",
   "language": "python",
   "name": "python3"
  },
  "language_info": {
   "codemirror_mode": {
    "name": "ipython",
    "version": 3
   },
   "file_extension": ".py",
   "mimetype": "text/x-python",
   "name": "python",
   "nbconvert_exporter": "python",
   "pygments_lexer": "ipython3",
   "version": "3.10.8"
  }
 },
 "nbformat": 4,
 "nbformat_minor": 5
}
