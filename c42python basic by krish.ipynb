{
 "cells": [
  {
   "cell_type": "code",
   "execution_count": 5,
   "id": "28f81197-9dc3-4f89-9504-a645d280f278",
   "metadata": {},
   "outputs": [
    {
     "name": "stdout",
     "output_type": "stream",
     "text": [
      " my age is: 1\n"
     ]
    }
   ],
   "source": [
    "# f string\n",
    "print(f' my age is: {1}')"
   ]
  },
  {
   "cell_type": "code",
   "execution_count": 11,
   "id": "eb0f3212-cf47-4df6-b4f0-4ce7e745ec42",
   "metadata": {},
   "outputs": [
    {
     "name": "stdout",
     "output_type": "stream",
     "text": [
      "My name is krish and age is 34\n"
     ]
    }
   ],
   "source": [
    "#format()\n",
    "name = \"krish\"\n",
    "age = 34\n",
    "print('My name is {} and age is {}'.format(name,age))"
   ]
  },
  {
   "cell_type": "code",
   "execution_count": 13,
   "id": "278f5a72-d599-4a52-9e08-bfac224d240e",
   "metadata": {},
   "outputs": [
    {
     "name": "stdout",
     "output_type": "stream",
     "text": [
      "My name is krish and age is 34\n"
     ]
    }
   ],
   "source": [
    "print('My name is {} and age is {}'.format(name,age))"
   ]
  },
  {
   "cell_type": "code",
   "execution_count": 79,
   "id": "c9e9f4b3-20ad-4a7c-a1e7-451960dad676",
   "metadata": {},
   "outputs": [
    {
     "name": "stdout",
     "output_type": "stream",
     "text": [
      "My name is Rafi , age is 21 ,  degree M.tech \n",
      "My name is 1 ; age is 2 ; and degree is 3\n"
     ]
    }
   ],
   "source": [
    "name= \"Rafi\"\n",
    "age = 21\n",
    "degree = \"M.tech\"\n",
    "print('My name is {} , age is {} ,  degree {} '.format(name,age,degree)) # format()\n",
    "print(f'My name is {1} ; age is {2} ; and degree is {3}') #f string\n"
   ]
  },
  {
   "cell_type": "code",
   "execution_count": 80,
   "id": "29768825-18cb-4a69-9c40-4de74f5aa5f5",
   "metadata": {},
   "outputs": [
    {
     "data": {
      "text/plain": [
       "int"
      ]
     },
     "execution_count": 80,
     "metadata": {},
     "output_type": "execute_result"
    }
   ],
   "source": [
    "type(age)"
   ]
  },
  {
   "cell_type": "code",
   "execution_count": 16,
   "id": "e648ef8c-3f57-455c-b36e-d370c1415d8b",
   "metadata": {},
   "outputs": [],
   "source": [
    "## control flow\n",
    "## decision making"
   ]
  },
  {
   "cell_type": "code",
   "execution_count": 18,
   "id": "1ee8f5b6-ac21-4dd2-9dda-b38e6fec5d3e",
   "metadata": {},
   "outputs": [
    {
     "name": "stdout",
     "output_type": "stream",
     "text": [
      "yes you are\n"
     ]
    }
   ],
   "source": [
    "## if statements\n",
    "age = 18\n",
    "if age >= 18:\n",
    "    print('yes you are')"
   ]
  },
  {
   "cell_type": "code",
   "execution_count": 22,
   "id": "11ca44e7-d4cb-44fb-9fed-209620ab2b70",
   "metadata": {},
   "outputs": [
    {
     "name": "stdout",
     "output_type": "stream",
     "text": [
      "yes you are\n"
     ]
    }
   ],
   "source": [
    "## if statements\n",
    "age = 120\n",
    "if age > 18:\n",
    "    print('yes you are')"
   ]
  },
  {
   "cell_type": "code",
   "execution_count": 24,
   "id": "a2717469-5678-4d04-9e58-f60be46afeac",
   "metadata": {},
   "outputs": [
    {
     "name": "stdin",
     "output_type": "stream",
     "text": [
      "my name is rafi\n"
     ]
    }
   ],
   "source": [
    "name =  input(\"my name is\")"
   ]
  },
  {
   "cell_type": "code",
   "execution_count": 26,
   "id": "449bdd5a-7d04-4754-a92a-05cecb90293a",
   "metadata": {},
   "outputs": [
    {
     "data": {
      "text/plain": [
       "'rafi'"
      ]
     },
     "execution_count": 26,
     "metadata": {},
     "output_type": "execute_result"
    }
   ],
   "source": [
    "name"
   ]
  },
  {
   "cell_type": "code",
   "execution_count": 30,
   "id": "fee3736e-2120-45d8-8417-83349a977220",
   "metadata": {},
   "outputs": [
    {
     "name": "stdin",
     "output_type": "stream",
     "text": [
      "Enter your age  90\n"
     ]
    }
   ],
   "source": [
    "age = int (input(\"Enter your age \")) "
   ]
  },
  {
   "cell_type": "code",
   "execution_count": 32,
   "id": "c7d5e4fc-6f5b-4656-843e-c80f3ddea170",
   "metadata": {},
   "outputs": [
    {
     "data": {
      "text/plain": [
       "int"
      ]
     },
     "execution_count": 32,
     "metadata": {},
     "output_type": "execute_result"
    }
   ],
   "source": [
    "type(age)"
   ]
  },
  {
   "cell_type": "code",
   "execution_count": 40,
   "id": "dc6ba263-2950-4361-ab70-7ba044a209d9",
   "metadata": {},
   "outputs": [
    {
     "name": "stdin",
     "output_type": "stream",
     "text": [
      "my age is  9999999999999999999999999999999999999999999999\n"
     ]
    },
    {
     "name": "stdout",
     "output_type": "stream",
     "text": [
      " nice you are getting closer to the death \n"
     ]
    }
   ],
   "source": [
    "age = int(input(\"my age is \"))\n",
    "if age <= 45:\n",
    "    print('you are younger then you think')\n",
    "else :\n",
    "    print(' nice you are getting closer to the death ')\n"
   ]
  },
  {
   "cell_type": "code",
   "execution_count": 2,
   "id": "027a0a9c-6151-40ee-955d-207044088568",
   "metadata": {},
   "outputs": [
    {
     "name": "stdout",
     "output_type": "stream",
     "text": [
      "sale sale!!\n"
     ]
    },
    {
     "name": "stdin",
     "output_type": "stream",
     "text": [
      "write product price 4000\n"
     ]
    },
    {
     "name": "stdout",
     "output_type": "stream",
     "text": [
      " you got 30% off\n",
      "And your fianl price is   2800\n"
     ]
    }
   ],
   "source": [
    "print(\"sale sale!!\")\n",
    "P = int(input(\"write product price\"))\n",
    "if P <= 1000:\n",
    "    print(' congratulations ! you got 20% off')  \n",
    "    TP = int(P - (P*0.2))\n",
    "    W = \"And your fianl price is \"\n",
    "    print(\"{} ,  {}\". format (W,TP))\n",
    "else:\n",
    "    print(' you got 30% off')\n",
    "    TP1 = int(P - (P*0.3))\n",
    "    W = \"And your fianl price is \"\n",
    "    print(\"{}  {}\". format (W,TP1))\n",
    "    \n",
    "##x = P/"
   ]
  },
  {
   "cell_type": "code",
   "execution_count": 5,
   "id": "f54b4ec0-3715-4906-8501-5d8e5296b18c",
   "metadata": {},
   "outputs": [
    {
     "name": "stdin",
     "output_type": "stream",
     "text": [
      "enter the price 4000\n"
     ]
    },
    {
     "name": "stdout",
     "output_type": "stream",
     "text": [
      "the price of the product is  3200.0\n"
     ]
    }
   ],
   "source": [
    "#ANOTHER WAY FOR DOING THE SAME IS \n",
    "p= int(input(\"enter the price\"))\n",
    "if p > 1000:\n",
    "       print(\"the price of the product is \", format(p*0.8))\n",
    "else:\n",
    "       print(\"the price of the product is {}\", format(p*0.7))"
   ]
  },
  {
   "cell_type": "code",
   "execution_count": 20,
   "id": "9e9e8f88-9a22-4b11-8da2-603a5f224fd1",
   "metadata": {},
   "outputs": [
    {
     "name": "stdin",
     "output_type": "stream",
     "text": [
      "enter the price 4000\n"
     ]
    },
    {
     "name": "stdout",
     "output_type": "stream",
     "text": [
      " go trip \n",
      "the price of the product is  3200.0\n"
     ]
    }
   ],
   "source": [
    "#ANOTHER WAY FOR DOING THE SAME IS \n",
    "p= int(input(\"enter the price\"))\n",
    "if p > 1000:\n",
    "    if p == 4000:\n",
    "        print(' go trip ')\n",
    "    print(\"the price of the product is \", format(p*0.8))\n",
    "elif p>=2000 and p<=3000:\n",
    "    if p == 2999:\n",
    "        print(\"mubark ho\")\n",
    "    print(f\"the price of the product is {p*0.7}\")\n",
    "elif p>=100 and p<=2000:\n",
    "    print(f\"the price of the product is {p*0.6}\")\n",
    "else:\n",
    "       print(\"bas ki baat na hai teri\")"
   ]
  },
  {
   "cell_type": "code",
   "execution_count": null,
   "id": "35686a1c-6fbb-4ee7-8a96-4aad3c5d9f00",
   "metadata": {},
   "outputs": [],
   "source": [
    "# single statement\n",
    "val = int(input('Enter the number'))\n",
    "if(val<=900):print)\"value is less than equal to 999)\n"
   ]
  }
 ],
 "metadata": {
  "kernelspec": {
   "display_name": "Python 3 (ipykernel)",
   "language": "python",
   "name": "python3"
  },
  "language_info": {
   "codemirror_mode": {
    "name": "ipython",
    "version": 3
   },
   "file_extension": ".py",
   "mimetype": "text/x-python",
   "name": "python",
   "nbconvert_exporter": "python",
   "pygments_lexer": "ipython3",
   "version": "3.10.8"
  }
 },
 "nbformat": 4,
 "nbformat_minor": 5
}
