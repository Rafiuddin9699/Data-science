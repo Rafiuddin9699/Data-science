{
 "cells": [
  {
   "cell_type": "code",
   "execution_count": null,
   "id": "ae6c6548-7610-4003-806a-e9374826deaf",
   "metadata": {},
   "outputs": [],
   "source": [
    "'''Q1. What is an Exception in python? Write the differen,e etween Exceptions and syntx errors?\n",
    "A1. An exception in Python is an event that occurs during the execution of a program that disrupts the normal flow of the program's instructions. When an exceptional condition arises, Python raises an exception, which can be caught and handled by the program to prevent termination or to perform alternative actions.\n",
    "\n",
    " The difference between exceptions and syntax errors:\n",
    "\n",
    "Exceptions: Exceptions occur during the execution of a program when something unexpected happens, such as division by zero, file not found, invalid input, etc. They disrupt the normal flow of the program. Examples of exceptions include ZeroDivisionError, FileNotFoundError, ValueError, etc. Exceptions can be caught and handled using try-except blocks.\n",
    "\n",
    "Syntax Errors: Syntax errors, also known as parsing errors, occur when the syntax of the code is incorrect. They occur during the parsing of code before the program is executed. Syntax errors indicate that there is a mistake in the syntax of the code, such as missing parentheses, missing colons, incorrect indentation, etc. Syntax errors prevent the program from being executed. Examples of syntax errors include SyntaxError, IndentationError, NameError (in some cases, when a variable or function is not defined), etc.''''\n"
   ]
  },
  {
   "cell_type": "code",
   "execution_count": 3,
   "id": "da40cbb8-c4a3-473e-8f87-0198ad0586ee",
   "metadata": {},
   "outputs": [
    {
     "ename": "ZeroDivisionError",
     "evalue": "division by zero",
     "output_type": "error",
     "traceback": [
      "\u001b[0;31m---------------------------------------------------------------------------\u001b[0m",
      "\u001b[0;31mZeroDivisionError\u001b[0m                         Traceback (most recent call last)",
      "Cell \u001b[0;32mIn[3], line 7\u001b[0m\n\u001b[1;32m      5\u001b[0m     result \u001b[38;5;241m=\u001b[39m x\u001b[38;5;241m/\u001b[39my\n\u001b[1;32m      6\u001b[0m     \u001b[38;5;28;01mreturn\u001b[39;00m result \n\u001b[0;32m----> 7\u001b[0m result \u001b[38;5;241m=\u001b[39m \u001b[43mdivide\u001b[49m\u001b[43m(\u001b[49m\u001b[38;5;241;43m10\u001b[39;49m\u001b[43m,\u001b[49m\u001b[43m \u001b[49m\u001b[38;5;241;43m0\u001b[39;49m\u001b[43m)\u001b[49m\n\u001b[1;32m      8\u001b[0m \u001b[38;5;28mprint\u001b[39m(result)\n",
      "Cell \u001b[0;32mIn[3], line 5\u001b[0m, in \u001b[0;36mdivide\u001b[0;34m(x, y)\u001b[0m\n\u001b[1;32m      4\u001b[0m \u001b[38;5;28;01mdef\u001b[39;00m \u001b[38;5;21mdivide\u001b[39m(x,y):\n\u001b[0;32m----> 5\u001b[0m     result \u001b[38;5;241m=\u001b[39m \u001b[43mx\u001b[49m\u001b[38;5;241;43m/\u001b[39;49m\u001b[43my\u001b[49m\n\u001b[1;32m      6\u001b[0m     \u001b[38;5;28;01mreturn\u001b[39;00m result\n",
      "\u001b[0;31mZeroDivisionError\u001b[0m: division by zero"
     ]
    }
   ],
   "source": [
    "'''Q2. What hppens when an exception is not handled? Explain with an example\n",
    "A2. When an exception is not handled, it propagates up the call stack until it reaches the top-level of the program. If the exception is not caught and handled anywhere along the call stack, the program terminates abruptly, and an error message is displayed, \n",
    "    indicating the type of exception and the line number where it occurred. '''\n",
    "def divide(x,y):\n",
    "    result = x/y\n",
    "    return result \n",
    "result = divide(10, 0)\n",
    "print(result)"
   ]
  },
  {
   "cell_type": "code",
   "execution_count": 7,
   "id": "77e006c6-3b71-40e0-a345-bf17282e983c",
   "metadata": {},
   "outputs": [
    {
     "name": "stdout",
     "output_type": "stream",
     "text": [
      "Error: Division by zero\n"
     ]
    },
    {
     "name": "stdin",
     "output_type": "stream",
     "text": [
      "Enter a number:  0\n"
     ]
    },
    {
     "name": "stdout",
     "output_type": "stream",
     "text": [
      "Square of the number: 0\n"
     ]
    }
   ],
   "source": [
    "'''Q3. Which Python statements are used to catch and handle exceptions? Explain with an example\n",
    "A3. In Python, the try statement is used to catch and handle exceptions. \n",
    "The try block is followed by one or more except blocks, which specify how \n",
    "to handle different types of exceptions that may occur within the try block.\n",
    "When an exception occurs within the try block, Python looks for an except\n",
    "block that matches the type of the raised exception. If a matching except \n",
    "block is found, its code is executed to handle the exception. If no matching \n",
    "except block is found, the exception propagates up the call stack.\n",
    "'''\n",
    "def divide(x, y):\n",
    "    try:\n",
    "        result = x / y\n",
    "        print(\"Result of division:\", result)\n",
    "    except ZeroDivisionError:\n",
    "        print(\"Error: Division by zero\")\n",
    "\n",
    "# Example 1: Handling division by zero\n",
    "divide(10, 0)  # This will raise a ZeroDivisionError, which will be caught and handled\n",
    "\n",
    "# Example 2: Handling invalid input\n",
    "try:\n",
    "    num = int(input(\"Enter a number: \"))\n",
    "    print(\"Square of the number:\", num**2)\n",
    "except ValueError:\n",
    "    print(\"Error: Invalid input. Please enter a valid integer.\")\n",
    "    \n",
    "\n"
   ]
  },
  {
   "cell_type": "code",
   "execution_count": null,
   "id": "534beb89-b9fd-48b6-ad54-3f2bef34e9ae",
   "metadata": {},
   "outputs": [],
   "source": [
    "Q4. Explain with an example:\n",
    "try and else\n",
    "finally\n",
    "raise\n",
    "1. try and else:\n",
    "\n",
    "The try block is used to enclose the code that may raise an exception.\n",
    "The else block is executed if no exceptions occur within the try block.\n",
    "If an exception occurs, the else block is skipped.\n",
    "\n",
    "try:\n",
    "    num = int(input(\"Enter a number: \"))\n",
    "except ValueError:\n",
    "    print(\"Error: Invalid input. Please enter a valid integer.\")\n",
    "else:\n",
    "    print(\"You entered:\", num)\n",
    "\n",
    "\n",
    "2. finally:\n",
    "\n",
    "The finally block is always executed regardless of whether an exception occurs or not.\n",
    "It is typically used to perform cleanup actions, such as closing files or releasing resources.\n",
    "try:\n",
    "    file = open(\"example.txt\", \"r\")\n",
    "    data = file.read()\n",
    "    print(data)\n",
    "except FileNotFoundError:\n",
    "    print(\"Error: File not found.\")\n",
    "finally:\n",
    "    if 'file' in locals():\n",
    "        file.close()\n",
    "\n",
    "3.raise:\n",
    "\n",
    "The raise statement is used to manually raise an exception.\n",
    "It can be used to trigger built-in exceptions or custom exceptions.\n",
    "\n",
    "def divide(x, y):\n",
    "    if y == 0:\n",
    "        raise ValueError(\"Division by zero is not allowed\")\n",
    "    return x / y\n",
    "\n",
    "try:\n",
    "    result = divide(10, 0)\n",
    "    print(\"Result:\", result)\n",
    "except ValueError as e:\n",
    "    print(\"Error:\", e)\n",
    "\n"
   ]
  },
  {
   "cell_type": "code",
   "execution_count": null,
   "id": "662d6332-ee86-4ddb-bb55-19f8a87d2329",
   "metadata": {},
   "outputs": [],
   "source": [
    "Q5. What are Custom Exceptions in python? Whydo we need Custom Ex,eptions? Explain with an example.\n",
    "Custom exceptions in Python are user-defined exceptions that extend the built-in exception classes provided by Python.\n",
    "They allow developers to create specific exception types tailored to their application's needs.\n",
    "Custom exceptions provide better error handling and debugging capabilities by allowing code to distinguish between different\n",
    "types of errors and take appropriate actions.\n",
    "We need custom exceptions for the following reasons:\n",
    "\n",
    "Clarity: Custom exceptions make code more readable and understandable by providing descriptive names for specific error conditions in the application.\n",
    "\n",
    "Modularity: By defining custom exceptions, we can modularize error handling logic and encapsulate it within dedicated exception classes, leading to cleaner and more maintainable code.\n",
    "\n",
    "Specificity: Custom exceptions allow us to differentiate between different types of errors and handle them differently based on their nature, improving the robustness and reliability of the code.\n",
    "\n",
    "Debugging: Custom exceptions help in identifying and debugging errors more efficiently by providing clear error messages and stack traces that pinpoint the exact cause of the issue.\n",
    "\n",
    "\n",
    "# Define a custom exception class named InvalidWithdrawalError\n",
    "class InvalidWithdrawalError(Exception):\n",
    "    def __init__(self, balance, amount):\n",
    "        super().__init__(f\"Invalid withdrawal amount: Balance is {balance}, but attempted to withdraw {amount}\")\n",
    "        self.balance = balance\n",
    "        self.amount = amount\n",
    "\n",
    "# Define a bank account class\n",
    "class BankAccount:\n",
    "    def __init__(self, balance):\n",
    "        self.balance = balance\n",
    "\n",
    "    def withdraw(self, amount):\n",
    "        if amount > self.balance:\n",
    "            raise InvalidWithdrawalError(self.balance, amount)\n",
    "        self.balance -= amount\n",
    "        return self.balance\n",
    "\n",
    "# Usage of the custom exception\n",
    "try:\n",
    "    account = BankAccount(1000)\n",
    "    withdrawal_amount = 1500\n",
    "    remaining_balance = account.withdraw(withdrawal_amount)\n",
    "    print(\"Withdrawal successful. Remaining balance:\", remaining_balance)\n",
    "except InvalidWithdrawalError as e:\n",
    "    print(\"Error:\", e)\n"
   ]
  },
  {
   "cell_type": "code",
   "execution_count": null,
   "id": "fc49bd74-d6fd-4483-8125-93d122473cdb",
   "metadata": {},
   "outputs": [],
   "source": [
    "Q6. Create custom exception class. Use this class to handle exception.\n",
    "# Define a custom exception class\n",
    "class CustomError(Exception):\n",
    "    def __init__(self, message):\n",
    "        self.message = message\n",
    "\n",
    "# Function that raises the custom exception\n",
    "def process_data(data):\n",
    "    if not data:\n",
    "        raise CustomError(\"Data is empty\")\n",
    "\n",
    "# Example usage: Handling the custom exception\n",
    "try:\n",
    "    data = None  # Simulating empty data\n",
    "    process_data(data)\n",
    "except CustomError as e:\n",
    "    print(\"Custom Error:\", e.message)\n"
   ]
  }
 ],
 "metadata": {
  "kernelspec": {
   "display_name": "Python 3 (ipykernel)",
   "language": "python",
   "name": "python3"
  },
  "language_info": {
   "codemirror_mode": {
    "name": "ipython",
    "version": 3
   },
   "file_extension": ".py",
   "mimetype": "text/x-python",
   "name": "python",
   "nbconvert_exporter": "python",
   "pygments_lexer": "ipython3",
   "version": "3.10.8"
  }
 },
 "nbformat": 4,
 "nbformat_minor": 5
}
