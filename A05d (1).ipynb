{
 "cells": [
  {
   "cell_type": "code",
   "execution_count": null,
   "id": "ad53918a-e8aa-497a-a31c-81041da7b835",
   "metadata": {},
   "outputs": [],
   "source": [
    "\n",
    "Q1. what is multithreading in python? hy is it used? Name the module used to handle threads in python\n",
    "A1. \n",
    "Multithreading in Python refers to the ability of a program to execute multiple threads \n",
    "concurrently within a single process. A thread is a lightweight process, and multithreading allows a\n",
    "program to perform multiple tasks simultaneously, taking advantage of modern multi-core processors and improving overall performance and responsiveness.\n",
    "\n",
    "Utilization of Multiple CPU Cores\n",
    "Improved Parallelism\n",
    "Enhanced Stability\n",
    "Platform Independence"
   ]
  },
  {
   "cell_type": "code",
   "execution_count": null,
   "id": "b78222af-52d2-4347-b9cd-779236729e63",
   "metadata": {},
   "outputs": [],
   "source": [
    "Q2. What are the differences between multiprocessing and multithreading?\n",
    "Execution Model:\n",
    "\n",
    "Multiprocessing involves running multiple processes concurrently, each with its own memory space and resources. Processes are independent entities and do not share memory.\n",
    "Multithreading involves running multiple threads within the same process, sharing the same memory space. Threads share memory and resources of the parent process.\n",
    "\n",
    "Concurrency and Parallelism:\n",
    "\n",
    "Multiprocessing achieves true parallelism by executing processes simultaneously on multiple CPU cores or processors. Each process runs independently of others and can utilize different CPU cores.\n",
    "Multithreading achieves concurrency, but not necessarily parallelism, as threads within the same process share CPU resources and execute concurrently. While threads can run simultaneously on multicore systems, they may also run concurrently on a single CPU core through time slicing.\n",
    "\n",
    "Resource Overhead:\n",
    "\n",
    "Multiprocessing typically incurs higher overhead compared to multithreading due to the creation of separate processes, which involves additional memory and system resources.\n",
    "Multithreading generally incurs lower overhead compared to multiprocessing because threads share the same memory space and resources of the parent process.\n",
    "\n",
    "Isolation and Stability:\n",
    "\n",
    "Multiprocessing provides higher isolation between processes, reducing the risk of conflicts and concurrency issues such as race conditions and deadlocks. Each process has its own memory space and is less affected by errors in other processes.\n",
    "Multithreading shares memory between threads, making it susceptible to race conditions, deadlocks, and other concurrency issues. Changes to shared data by one thread can affect the behavior of other threads\n"
   ]
  },
  {
   "cell_type": "code",
   "execution_count": 2,
   "id": "3747448e-06f8-458e-bda8-28d1930d4c27",
   "metadata": {},
   "outputs": [
    {
     "name": "stdout",
     "output_type": "stream",
     "text": [
      "Worker process: 537\n",
      "Main process: 84\n"
     ]
    }
   ],
   "source": [
    "'''Q3. Write a python code to create a process using the multiprocessing module.\n",
    "'''\n",
    "import multiprocessing\n",
    "import os\n",
    "\n",
    "# Function to be executed by the process\n",
    "def worker_function():\n",
    "    print(\"Worker process:\", os.getpid())\n",
    "\n",
    "if __name__ == \"__main__\":\n",
    "    # Create a process\n",
    "    process = multiprocessing.Process(target=worker_function)\n",
    "\n",
    "    # Start the process\n",
    "    process.start()\n",
    "\n",
    "    # Wait for the process to finish\n",
    "    process.join()\n",
    "\n",
    "    print(\"Main process:\", os.getpid())\n"
   ]
  },
  {
   "cell_type": "code",
   "execution_count": null,
   "id": "f8e3a2f0-a6da-4759-84f0-68b91c55663c",
   "metadata": {},
   "outputs": [],
   "source": [
    "Q4. What is a multiprocessing pool in python? Why is it used?\n",
    "A4. In Python, a multiprocessing pool refers to a pool of worker processes that can be used to parallelize the execution of a function across multiple CPU cores. The multiprocessing.Pool class in the multiprocessing module provides a convenient way to create and manage a pool of worker processes.\n",
    "\n",
    "Here's why multiprocessing pools are used:\n",
    "Parallel Execution\n",
    "Task Parallelism:\n",
    "Ease of Use\n",
    "Automatic Load Balancing\n",
    "Resource Management"
   ]
  },
  {
   "cell_type": "code",
   "execution_count": null,
   "id": "9b1a5678-28a3-4c17-a18c-178b166b4398",
   "metadata": {},
   "outputs": [],
   "source": [
    "Q5. How can we create a pool of worker processes in python using the multiprocessing module?\n",
    "\n",
    "A5. To create a pool of worker processes in Python using the multiprocessing module, you can use the multiprocessing.Pool class. Here's how you can create a pool of worker processes:\n",
    "\n",
    "Import the multiprocessing module.\n",
    "Create an instance of the multiprocessing.Pool class, specifying the number of worker processes to use.\n",
    "Use the map() or apply() method of the pool object to execute functions in parallel across the worker processes."
   ]
  },
  {
   "cell_type": "code",
   "execution_count": 3,
   "id": "1795584c-65c1-48a6-97d9-d9d9c51c3507",
   "metadata": {},
   "outputs": [
    {
     "name": "stdout",
     "output_type": "stream",
     "text": [
      "Process ID: 763Process ID: Number:  7661 \n",
      "Process ID:Number:  7792 \n",
      "Number:Process ID:  3800\n",
      " Number: 4\n"
     ]
    }
   ],
   "source": [
    "'''Q6. Write a python program to create 4 processes, each process should print a different number using the\n",
    "multiprocessing module in python.\n",
    "A6. '''\n",
    "\n",
    "import multiprocessing\n",
    "\n",
    "# Function to print a number\n",
    "def print_number(number):\n",
    "    print(\"Process ID:\", multiprocessing.current_process().pid, \"Number:\", number)\n",
    "\n",
    "if __name__ == \"__main__\":\n",
    "    # List of numbers to be printed\n",
    "    numbers = [1, 2, 3, 4]\n",
    "\n",
    "    # Create a list to hold the process objects\n",
    "    processes = []\n",
    "\n",
    "    # Create 4 processes, each printing a different number\n",
    "    for number in numbers:\n",
    "        process = multiprocessing.Process(target=print_number, args=(number,))\n",
    "        processes.append(process)\n",
    "        process.start()\n",
    "\n",
    "    # Wait for all processes to finish\n",
    "    for process in processes:\n",
    "        process.join()\n"
   ]
  },
  {
   "cell_type": "code",
   "execution_count": null,
   "id": "65052158-558e-43bd-bede-647c0aff95cb",
   "metadata": {},
   "outputs": [],
   "source": []
  }
 ],
 "metadata": {
  "kernelspec": {
   "display_name": "Python 3 (ipykernel)",
   "language": "python",
   "name": "python3"
  },
  "language_info": {
   "codemirror_mode": {
    "name": "ipython",
    "version": 3
   },
   "file_extension": ".py",
   "mimetype": "text/x-python",
   "name": "python",
   "nbconvert_exporter": "python",
   "pygments_lexer": "ipython3",
   "version": "3.10.8"
  }
 },
 "nbformat": 4,
 "nbformat_minor": 5
}
